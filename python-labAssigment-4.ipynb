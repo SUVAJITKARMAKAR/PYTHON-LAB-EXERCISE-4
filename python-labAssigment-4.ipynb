{
 "cells": [
  {
   "cell_type": "markdown",
   "metadata": {},
   "source": [
    "# LAB-EXERCISE-4-PYTHON "
   ]
  },
  {
   "cell_type": "code",
   "execution_count": 2,
   "metadata": {},
   "outputs": [
    {
     "name": "stdout",
     "output_type": "stream",
     "text": [
      "USERID : 2347261, USER-NAME : I_am_suvajit_K, USERAGE : 21, USER-ACCOUNT-TYPE : OPEN-ACCOUNT\n",
      "\n",
      "\n",
      "USERID : 897124, USER-NAME : Subham.Gorai, USERAGE : 21, USER-ACCOUNT-TYPE : PRIVATE-ACCOUNT\n",
      "\n",
      "\n",
      "USER-FOLLOWING-INFORMATION : True\n",
      "\n",
      "\n"
     ]
    }
   ],
   "source": [
    "# Write a Python program to implement the object-oriented concepts of multiple, Multilevel and Hierarchical Inheritances using your domain applications. \n",
    "\n",
    "#MULTIPLE INHERITANCE IN PYTHON\n",
    "\n",
    "class user_account_information:\n",
    "    def __init__(self, userName, userId, userAge, userAccountType):\n",
    "        self.userName = userName\n",
    "        self.userId = userId\n",
    "        self.userAge = userAge\n",
    "        self.userAccountType = userAccountType\n",
    "\n",
    "    def display_user_information(self):\n",
    "        print(f\"USERID : {self.userId}, USER-NAME : {self.userName}, USERAGE : {self.userAge}, USER-ACCOUNT-TYPE : {self.userAccountType}\")\n",
    "        print(\"\\n\")\n",
    "\n",
    "\n",
    "class user_following_information(user_account_information):\n",
    "    def __init__(self, userName, userId, userAge, userAccountType, userFollowing):\n",
    "        super().__init__(userName, userId, userAge, userAccountType)\n",
    "        self.userFollowing = userFollowing\n",
    "\n",
    "    def display_user_information(self):\n",
    "        super().display_user_information()\n",
    "        print(f\"USER-FOLLOWING-INFORMATION : {self.userFollowing}\")\n",
    "        print(\"\\n\")\n",
    "\n",
    "\n",
    "class following_list_information(user_following_information):\n",
    "    def __init__(self, userName, userId, userAge, userAccountType, userFollowing, userFollowingNumber):\n",
    "        super().__init__(userName, userId, userAge, userAccountType, userFollowing)\n",
    "        self.userFollowingNumber = userFollowingNumber\n",
    "\n",
    "    def display_user_information(self):\n",
    "        super().display_user_information()\n",
    "        print(f\"USER-FOLLOWING-NUMBER : {self.userFollowingNumber}\")\n",
    "        print(\"\\n\")\n",
    "\n",
    "\n",
    "\n",
    "\n",
    "# CREATING INSTANCES OF THE CLASSES - INHERITANCE \n",
    "\n",
    "User_Suvajit = user_account_information(\"I_am_suvajit_K\", \"2347261\", 21, \"OPEN-ACCOUNT\")\n",
    "User_Suvajit.display_user_information()\n",
    "\n",
    "User_Subham = user_following_information(\"Subham.Gorai\", \"897124\", 21, \"PRIVATE-ACCOUNT\", True)\n",
    "User_Subham.display_user_information()\n"
   ]
  }
 ],
 "metadata": {
  "kernelspec": {
   "display_name": "Python 3 (ipykernel)",
   "language": "python",
   "name": "python3"
  },
  "orig_nbformat": 4
 },
 "nbformat": 4,
 "nbformat_minor": 2
}
